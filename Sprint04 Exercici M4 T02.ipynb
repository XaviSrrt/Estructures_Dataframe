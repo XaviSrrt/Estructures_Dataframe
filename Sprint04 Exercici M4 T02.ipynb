{
 "cells": [
  {
   "cell_type": "markdown",
   "id": "54b0dc13",
   "metadata": {},
   "source": [
    "### Tasca M4 T02\n",
    "\n",
    "Descripció\n",
    "\n",
    "Visualització gràfica de múltiples variables.\n"
   ]
  },
  {
   "cell_type": "markdown",
   "id": "686a055d",
   "metadata": {},
   "source": [
    "#### Exercici 1\n",
    "Realitza la pràctica del notebook a GitHub \"03 EXAMINING DATA\" (fes una còpia i executa els comandaments amb el mateix dataset county.txt). Aquest exercici consisteix a observar les diferents possibilitats que ofereixen les diferents llibreries de visualització gràfica.\n",
    "\n",
    "->03 EXAMINING DATA\n",
    "\n"
   ]
  },
  {
   "cell_type": "markdown",
   "id": "0e3f37d8",
   "metadata": {},
   "source": [
    "Fet!!!!"
   ]
  },
  {
   "cell_type": "markdown",
   "id": "bb913653",
   "metadata": {},
   "source": [
    "#### Exercici 2\n",
    "Fes les tasques de preprocessat  i adequació del Dataset que disposem en el repositori de GitHub PRE-PROCESSING-DATA amb l'objectiu de preparar-lo i treballar-lo com a dataframe per a extreure'n informació.\n",
    "\n",
    "->PRE-PROCESSING-DATA/movies.dat\n",
    "\n",
    "\n",
    " Important\n",
    "\n",
    "El resultat final ha de ser un dataframe amb les variables de nom de la pel·lícula, any i genere. També és important quedar-se amb un sol gènere per a cada pel·lícula!\n",
    "\n",
    "\n",
    "\n"
   ]
  },
  {
   "cell_type": "code",
   "execution_count": 2,
   "id": "4a30e6aa",
   "metadata": {},
   "outputs": [
    {
     "data": {
      "text/html": [
       "<div>\n",
       "<style scoped>\n",
       "    .dataframe tbody tr th:only-of-type {\n",
       "        vertical-align: middle;\n",
       "    }\n",
       "\n",
       "    .dataframe tbody tr th {\n",
       "        vertical-align: top;\n",
       "    }\n",
       "\n",
       "    .dataframe thead th {\n",
       "        text-align: right;\n",
       "    }\n",
       "</style>\n",
       "<table border=\"1\" class=\"dataframe\">\n",
       "  <thead>\n",
       "    <tr style=\"text-align: right;\">\n",
       "      <th></th>\n",
       "      <th>nom_pelicula</th>\n",
       "      <th>genere</th>\n",
       "      <th>any</th>\n",
       "    </tr>\n",
       "    <tr>\n",
       "      <th>index</th>\n",
       "      <th></th>\n",
       "      <th></th>\n",
       "      <th></th>\n",
       "    </tr>\n",
       "  </thead>\n",
       "  <tbody>\n",
       "    <tr>\n",
       "      <th>1</th>\n",
       "      <td>Toy Story</td>\n",
       "      <td>Animation</td>\n",
       "      <td>1995</td>\n",
       "    </tr>\n",
       "    <tr>\n",
       "      <th>2</th>\n",
       "      <td>Jumanji</td>\n",
       "      <td>Adventure</td>\n",
       "      <td>1995</td>\n",
       "    </tr>\n",
       "    <tr>\n",
       "      <th>3</th>\n",
       "      <td>Grumpier Old Men</td>\n",
       "      <td>Comedy</td>\n",
       "      <td>1995</td>\n",
       "    </tr>\n",
       "    <tr>\n",
       "      <th>4</th>\n",
       "      <td>Waiting to Exhale</td>\n",
       "      <td>Comedy</td>\n",
       "      <td>1995</td>\n",
       "    </tr>\n",
       "    <tr>\n",
       "      <th>5</th>\n",
       "      <td>Father of the Bride Part II</td>\n",
       "      <td>Comedy</td>\n",
       "      <td>1995</td>\n",
       "    </tr>\n",
       "    <tr>\n",
       "      <th>...</th>\n",
       "      <td>...</td>\n",
       "      <td>...</td>\n",
       "      <td>...</td>\n",
       "    </tr>\n",
       "    <tr>\n",
       "      <th>3948</th>\n",
       "      <td>Meet the Parents</td>\n",
       "      <td>Comedy</td>\n",
       "      <td>2000</td>\n",
       "    </tr>\n",
       "    <tr>\n",
       "      <th>3949</th>\n",
       "      <td>Requiem for a Dream</td>\n",
       "      <td>Drama</td>\n",
       "      <td>2000</td>\n",
       "    </tr>\n",
       "    <tr>\n",
       "      <th>3950</th>\n",
       "      <td>Tigerland</td>\n",
       "      <td>Drama</td>\n",
       "      <td>2000</td>\n",
       "    </tr>\n",
       "    <tr>\n",
       "      <th>3951</th>\n",
       "      <td>Two Family House</td>\n",
       "      <td>Drama</td>\n",
       "      <td>2000</td>\n",
       "    </tr>\n",
       "    <tr>\n",
       "      <th>3952</th>\n",
       "      <td>Contender, The</td>\n",
       "      <td>Drama</td>\n",
       "      <td>2000</td>\n",
       "    </tr>\n",
       "  </tbody>\n",
       "</table>\n",
       "<p>3883 rows × 3 columns</p>\n",
       "</div>"
      ],
      "text/plain": [
       "                       nom_pelicula     genere   any\n",
       "index                                               \n",
       "1                        Toy Story   Animation  1995\n",
       "2                          Jumanji   Adventure  1995\n",
       "3                 Grumpier Old Men      Comedy  1995\n",
       "4                Waiting to Exhale      Comedy  1995\n",
       "5      Father of the Bride Part II      Comedy  1995\n",
       "...                             ...        ...   ...\n",
       "3948              Meet the Parents      Comedy  2000\n",
       "3949           Requiem for a Dream       Drama  2000\n",
       "3950                     Tigerland       Drama  2000\n",
       "3951              Two Family House       Drama  2000\n",
       "3952                Contender, The       Drama  2000\n",
       "\n",
       "[3883 rows x 3 columns]"
      ]
     },
     "execution_count": 2,
     "metadata": {},
     "output_type": "execute_result"
    }
   ],
   "source": [
    "import pandas as pd\n",
    "\n",
    "#fitxer='https://github.com/BIDDL3/PRE-PROCESSING-DATA/blob/main/movies.dat'\n",
    "#fitxer='https://raw.githubusercontent.com/BIDDL3/PRE-PROCESSING-DATA/tree/main/movies.dat'\n",
    "\n",
    "fitxer='D:/Users/X/Downloads/movies.dat'\n",
    "df=pd.read_csv(fitxer,header=None,\n",
    "              sep='::',engine='python',\n",
    "              encoding = 'ISO-8859-1',index_col=0,  \n",
    "              names=['index','nom_pelicula','genere'])\n",
    "df['any']=df['nom_pelicula'].str[-5:-1].astype(int)\n",
    "df['nom_pelicula']=df['nom_pelicula'].str[:-6]\n",
    "#separem la columna 'genere' pel caracter '|'\n",
    "df['genere']=df['genere'].str.split('|')\n",
    "#ens quedem amb el primer valor de la columna 'genere'\n",
    "df['genere']=df['genere'].str[0]\n",
    "df\n",
    "#type(df['genere'])\n",
    "#print(df['genere'][0:1][:1])\n"
   ]
  },
  {
   "cell_type": "markdown",
   "id": "16b59c38",
   "metadata": {},
   "source": [
    "#### Exercici 3\n",
    "\n",
    "Mostra la teva creativitat. Què creus rellevant mostrar del Dataset \"movies.dat\" de l'exercici anterior?\n",
    "\n",
    "Fes una o dues representacions gràfiques i justifica la teva elecció."
   ]
  },
  {
   "cell_type": "code",
   "execution_count": 13,
   "id": "22863579",
   "metadata": {},
   "outputs": [
    {
     "data": {
      "image/png": "[encoded data removed]",
      "text/plain": [
       "<Figure size 432x288 with 1 Axes>"
      ]
     },
     "metadata": {
      "needs_background": "light"
     },
     "output_type": "display_data"
    }
   ],
   "source": [
    "import matplotlib.pyplot as plt\n",
    "import seaborn as sns\n",
    "\n",
    "#Veiem amb un histtgrama quan pel$·licules hi han per any al fitxer de dades\n",
    "intervals=max(df['any'])-min(df['any'])+1\n",
    "plt.xlabel('any')\n",
    "plt.ylabel('Pelicules')\n",
    "plt.xticks(rotation = 45)\n",
    "hist=sns.histplot(data=df,x='any',bins=intervals)\n"
   ]
  },
  {
   "cell_type": "code",
   "execution_count": 58,
   "id": "9681da9d",
   "metadata": {},
   "outputs": [
    {
     "data": {
      "image/png": "[encoded data removed]",
      "text/plain": [
       "<Figure size 432x288 with 1 Axes>"
      ]
     },
     "metadata": {},
     "output_type": "display_data"
    }
   ],
   "source": [
    "count = df['genere'].value_counts()\n",
    "count=count.reset_index()\n",
    "count=count.rename(columns={'index': 'genere', 'genere': '#pelicules'})\n",
    "type(count['#pelicules'])\n",
    "count\n",
    "#count['#pelicules']\n",
    "count['genere']\n",
    "#count.columns\n",
    "\n",
    "    #define data\n",
    "#data = [value1, value2, value3, ...]\n",
    "#labels = ['label1', 'label2', 'label3', ...]\n",
    "\n",
    "#define Seaborn color palette to use\n",
    "#colors = sns.color_palette('pastel')[0:5]\n",
    "\n",
    "#create pie chart\n",
    "plt.pie(count['#pelicules'],labels=count['genere'],autopct='%.0f%%')\n",
    "plt.show()"
   ]
  }
 ],
 "metadata": {
  "kernelspec": {
   "display_name": "Python 3 (ipykernel)",
   "language": "python",
   "name": "python3"
  },
  "language_info": {
   "codemirror_mode": {
    "name": "ipython",
    "version": 3
   },
   "file_extension": ".py",
   "mimetype": "text/x-python",
   "name": "python",
   "nbconvert_exporter": "python",
   "pygments_lexer": "ipython3",
   "version": "3.9.7"
  }
 },
 "nbformat": 4,
 "nbformat_minor": 5
}
